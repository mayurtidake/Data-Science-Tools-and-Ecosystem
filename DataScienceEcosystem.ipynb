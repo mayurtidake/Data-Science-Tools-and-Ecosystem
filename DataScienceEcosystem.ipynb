{
 "cells": [
  {
   "cell_type": "markdown",
   "id": "bb0bbb7e-cab8-44b5-857e-85748d3a1278",
   "metadata": {},
   "source": [
    "# Data Science Tools and Ecosystem"
   ]
  },
  {
   "cell_type": "markdown",
   "id": "b7d0361c-99de-48c9-8089-747a55f8c788",
   "metadata": {},
   "source": [
    "## In this notebook, Data Science Tools and Ecosystem are summarized."
   ]
  },
  {
   "cell_type": "markdown",
   "id": "39336874-7063-48cb-bfff-9e4d9b209124",
   "metadata": {},
   "source": [
    "### Some of the popular languages that Data Scientists use are:\n",
    "1. Python\n",
    "2. R\n",
    "3. Java\n",
    "4. C/C++"
   ]
  },
  {
   "cell_type": "markdown",
   "id": "cb022982-c6ff-4c0d-9707-65d6005937bb",
   "metadata": {},
   "source": [
    "### Some of the commonly used libraries used by Data Scientists include:\n",
    "1. Numpy\n",
    "2. Pandas\n",
    "3. Matplotlib\n",
    "4. TensorFlow"
   ]
  },
  {
   "cell_type": "markdown",
   "id": "0b578602-4bdb-406c-a85b-c26b61980866",
   "metadata": {},
   "source": [
    "| Data Science Tools |\n",
    " --------------------\n",
    "| Jupyter Notebook |\n",
    "| Apache Zeppelin |\n",
    "| RStudio |\n",
    "| Spyder |"
   ]
  },
  {
   "cell_type": "markdown",
   "id": "2d9eeeda-aa8e-4c7a-a452-527355075b78",
   "metadata": {},
   "source": [
    "### Below are a few examples of evaluating arithmetic expressions in Python"
   ]
  },
  {
   "cell_type": "code",
   "execution_count": 1,
   "id": "eda1764e-1a64-41f2-ba5a-956431ec5aaf",
   "metadata": {
    "tags": []
   },
   "outputs": [
    {
     "data": {
      "text/plain": [
       "17"
      ]
     },
     "execution_count": 1,
     "metadata": {},
     "output_type": "execute_result"
    }
   ],
   "source": [
    "# This a simple arithmetic expression to mutiply then add integers\n",
    "(3*4)+5"
   ]
  },
  {
   "cell_type": "code",
   "execution_count": 3,
   "id": "74c8454f-6a99-4326-8179-a6303f5184c4",
   "metadata": {
    "tags": []
   },
   "outputs": [
    {
     "name": "stdout",
     "output_type": "stream",
     "text": [
      "3.3333333333333335 hours\n"
     ]
    }
   ],
   "source": [
    "# This will convert 200 minutes to hours by diving by 60\n",
    "print(200/60, \"hours\")"
   ]
  },
  {
   "cell_type": "markdown",
   "id": "519eede3-3ccb-43b4-85bd-ca3bb8156ee7",
   "metadata": {},
   "source": [
    "**Objectives:**\n",
    "- List popular languages for Data Science \n",
    "   1. Python\n",
    "   2. Java\n",
    "   3. R\n",
    "   4. C/C++\n",
    "- List popular tools for Data Science \n",
    "   1. Jupyter notebook\n",
    "   2. Apache Zeppelin\n",
    "   3. RStudio\n",
    "   4. Spyder\n",
    "- List popular libraries for Data Science\n",
    "   1. Numpy\n",
    "   2. Pandas\n",
    "   3. Matplotlib\n",
    "   4. Tensorflow"
   ]
  },
  {
   "cell_type": "markdown",
   "id": "0f5a73ce-5796-41b8-a01f-9aa18ffe0569",
   "metadata": {},
   "source": [
    "## Author\n",
    "Mayur Tidake"
   ]
  },
  {
   "cell_type": "code",
   "execution_count": null,
   "id": "3d0ca306-b65f-4d78-bdaa-dcb2b364b7c2",
   "metadata": {},
   "outputs": [],
   "source": []
  }
 ],
 "metadata": {
  "kernelspec": {
   "display_name": "Python",
   "language": "python",
   "name": "conda-env-python-py"
  },
  "language_info": {
   "codemirror_mode": {
    "name": "ipython",
    "version": 3
   },
   "file_extension": ".py",
   "mimetype": "text/x-python",
   "name": "python",
   "nbconvert_exporter": "python",
   "pygments_lexer": "ipython3",
   "version": "3.7.12"
  }
 },
 "nbformat": 4,
 "nbformat_minor": 5
}
